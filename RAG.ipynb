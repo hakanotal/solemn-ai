{
 "cells": [
  {
   "cell_type": "code",
   "execution_count": 1,
   "metadata": {},
   "outputs": [
    {
     "name": "stderr",
     "output_type": "stream",
     "text": [
      "/Users/hakan/Desktop/solemn-ai/venv/lib/python3.11/site-packages/tqdm/auto.py:21: TqdmWarning: IProgress not found. Please update jupyter and ipywidgets. See https://ipywidgets.readthedocs.io/en/stable/user_install.html\n",
      "  from .autonotebook import tqdm as notebook_tqdm\n"
     ]
    }
   ],
   "source": [
    "from langchain.text_splitter import RecursiveCharacterTextSplitter\n",
    "from langchain_community.embeddings import HuggingFaceEmbeddings\n",
    "from langchain_community.vectorstores import Neo4jVector\n",
    "from unstructured.partition.pdf import partition_pdf\n",
    "from unstructured.chunking.title import chunk_by_title\n",
    "from langchain.docstore.document import Document\n",
    "from tqdm import tqdm\n",
    "from dotenv import load_dotenv\n",
    "import os\n",
    "from langchain_google_genai import ChatGoogleGenerativeAI\n",
    "from langchain_core.prompts import PromptTemplate\n",
    "from langchain.schema import StrOutputParser\n",
    "from langchain.schema.runnable import RunnablePassthrough\n",
    "from neo4j import GraphDatabase\n",
    "\n",
    "\n",
    "load_dotenv('.env', override=True)\n",
    "\n",
    "\n",
    "NEO4J_URL = os.getenv('NEO4J_URI')\n",
    "NEO4J_USER = os.getenv('NEO4J_USERNAME')\n",
    "NEO4J_PASSWORD = os.getenv('NEO4J_PASSWORD')\n",
    "NEO4J_DATABASE = os.getenv('NEO4J_DATABASE') or 'neo4j'\n",
    "GEMINI_API_KEY = os.getenv('GEMINI_API_KEY')"
   ]
  },
  {
   "cell_type": "code",
   "execution_count": 2,
   "metadata": {},
   "outputs": [
    {
     "name": "stderr",
     "output_type": "stream",
     "text": [
      "100%|██████████| 1526/1526 [00:01<00:00, 1482.82it/s]\n"
     ]
    },
    {
     "name": "stdout",
     "output_type": "stream",
     "text": [
      "Given the major impact that AI can have on society and the need to build trust, it is vital\n",
      "\n",
      "for AI and its regulatory framework to be developed in accordance with Union values as\n",
      "\n",
      "enshrined in Article 2 of the Treaty on European Union (TEU), the fundamental rights\n",
      "\n",
      "and freedoms enshrined in the Treaties and, pursuant to Article 6 TEU, the Charter. As\n",
      "\n",
      "a pre-requisite, AI should be a human-centric technology. It should serve as a tool for\n",
      "Parliament and of the Council16.\n",
      "\n",
      "Directive 2000/31/EC of the European Parliament and of the Council of 8 June 2000 on certain legal aspects of information society services, in particular electronic commerce, in the Internal Market ('Directive on electronic commerce') (OJ L 178, 17.7.2000, p. 1).\n",
      "\n",
      "(12)\n",
      "\n",
      "The notion of ‘AI system’ in this Regulation should be clearly defined and should be\n",
      "\n",
      "closely aligned with the work of international organisations working on AI to ensure\n",
      "The Commission shall, after consulting the European Artificial Intelligence Board (the\n",
      "\n",
      "‘Board’), and no later than … [18 months from the date of entry into force of this\n",
      "\n",
      "Regulation], provide guidelines specifying the practical implementation of this Article in\n",
      "\n",
      "line with Article 96 together with a comprehensive list of practical examples of use cases\n",
      "\n",
      "of AI systems that are high-risk and not high-risk.\n",
      "\n",
      "The Commission shall adopt delegated acts in accordance with Article 97 to amend the\n",
      "accordance with Article 27;\n",
      "\n",
      "4.\n",
      "\n",
      "The URL of the entry of the AI system in the EU database by its provider;\n",
      "\n",
      "5.\n",
      "\n",
      "A summary of the data protection impact assessment carried out in accordance with\n",
      "\n",
      "Article 35 of Regulation (EU) 2016/679 or Article 27 of Directive (EU) 2016/680 as\n",
      "\n",
      "specified in Article 26(8) of this Regulation, where applicable.\n",
      "CPU times: user 16.3 s, sys: 2.19 s, total: 18.5 s\n",
      "Wall time: 32 s\n"
     ]
    }
   ],
   "source": [
    "%%time\n",
    "\n",
    "pdf_file = 'data/EU AI ACT.pdf'\n",
    "\n",
    "text_splitter = RecursiveCharacterTextSplitter(\n",
    "    chunk_size = 2000,\n",
    "    chunk_overlap  = 200,\n",
    "    length_function = len,\n",
    "    is_separator_regex = False,\n",
    ")\n",
    "\n",
    "def split_pdf_data_from_file(pdf_file):\n",
    "    chunks_with_metadata = [] # accumlate chunk records\n",
    "\n",
    "    pdf_elements = partition_pdf(pdf_file)\n",
    "    elements = chunk_by_title(pdf_elements)\n",
    "\n",
    "    chunk_seq_id = 0\n",
    "    for element in tqdm(elements):\n",
    "        if len(element.text) < 5:\n",
    "            continue\n",
    "\n",
    "        chunks = text_splitter.split_text(element.text)\n",
    "\n",
    "        for chunk in chunks:\n",
    "            chunks_with_metadata.append(Document(\n",
    "                page_content = chunk,\n",
    "                metadata = {\n",
    "                    \"source\": \"local\",\n",
    "                    \"chunk_seq_id\": chunk_seq_id,\n",
    "                    \"page_number\": element.metadata.to_dict()['page_number'],\n",
    "                }\n",
    "            ))\n",
    "            chunk_seq_id += 1\n",
    "\n",
    "\n",
    "    return chunks_with_metadata\n",
    "\n",
    "\n",
    "docs = split_pdf_data_from_file(pdf_file)\n",
    "\n",
    "# Initialize HuggingFace embeddings\n",
    "model_name = \"sentence-transformers/all-MiniLM-L6-v2\"\n",
    "embeddings = HuggingFaceEmbeddings(model_name=model_name)\n",
    "\n",
    "\n",
    "# Create a Neo4jVectorStore\n",
    "vector_store = Neo4jVector.from_documents(\n",
    "    docs,\n",
    "    embeddings,\n",
    "    url=NEO4J_URL,\n",
    "    username=NEO4J_USER,\n",
    "    password=NEO4J_PASSWORD\n",
    ")\n",
    "\n",
    "# Perform a similarity search\n",
    "query = \"What is the EU AI Act?\"\n",
    "results = vector_store.similarity_search(query)\n",
    "\n",
    "# Print the search results\n",
    "for result in results:\n",
    "    print(result.page_content)"
   ]
  },
  {
   "cell_type": "code",
   "execution_count": 8,
   "metadata": {},
   "outputs": [
    {
     "name": "stderr",
     "output_type": "stream",
     "text": [
      "100%|██████████| 1526/1526 [01:19<00:00, 19.10it/s]\n"
     ]
    }
   ],
   "source": [
    "\n",
    "driver = GraphDatabase.driver(NEO4J_URL, database=NEO4J_DATABASE, auth=(NEO4J_USER, NEO4J_PASSWORD))\n",
    "\n",
    "with driver.session() as session:\n",
    "    for doc in tqdm(docs):\n",
    "        # Create a node for each document\n",
    "        session.run(\n",
    "            \"CREATE (d:Document {id: $id, content: $content, page_number: $page_number})\",\n",
    "            id=doc.metadata[\"chunk_seq_id\"],\n",
    "            content=doc.page_content,\n",
    "            page_number=doc.metadata[\"page_number\"],\n",
    "        )\n",
    "\n",
    "        # Create relationships between documents based on similarity\n",
    "        similar_docs = vector_store.similarity_search(doc.page_content, k=5)\n",
    "        for similar_doc in similar_docs:\n",
    "            if similar_doc.metadata[\"chunk_seq_id\"] != doc.metadata[\"chunk_seq_id\"]:\n",
    "                session.run(\n",
    "                    \"MATCH (d1:Document {id: $id1}), (d2:Document {id: $id2}) \"\n",
    "                    \"CREATE (d1)-[:SIMILAR_TO]->(d2)\",\n",
    "                    id1=doc.metadata[\"chunk_seq_id\"],\n",
    "                    id2=similar_doc.metadata[\"chunk_seq_id\"],\n",
    "                )\n",
    "\n",
    "driver.close()"
   ]
  },
  {
   "cell_type": "code",
   "execution_count": 9,
   "metadata": {},
   "outputs": [],
   "source": [
    "retriever = vector_store.as_retriever(search_kwargs={\"k\": 5})\n",
    "\n",
    "# Initialize the Gemini model\n",
    "llm = ChatGoogleGenerativeAI(model=\"gemini-pro\", google_api_key=GEMINI_API_KEY)\n",
    "\n",
    "# Prompt template to query Gemini\n",
    "llm_prompt_template = \"\"\"You are an assistant for question-answering tasks.\n",
    "Use the following context to answer the question.\n",
    "Use five sentences minimum and keep the answer concise.\\n\n",
    "Question: {question} \\nContext: {context} \\nAnswer:\"\"\"\n",
    "\n",
    "llm_prompt = PromptTemplate.from_template(llm_prompt_template)\n",
    "\n",
    "# Combine data from documents to readable string format.\n",
    "def format_docs(docs):\n",
    "    # print(docs)\n",
    "    return \"\\n\\n\".join(doc.page_content for doc in docs)\n",
    "\n",
    "# Create stuff documents chain using LCEL.\n",
    "rag_chain = (\n",
    "    {\"context\": retriever | format_docs, \"question\": RunnablePassthrough()}\n",
    "    | llm_prompt\n",
    "    | llm\n",
    "    | StrOutputParser()\n",
    ")"
   ]
  },
  {
   "cell_type": "code",
   "execution_count": 10,
   "metadata": {},
   "outputs": [
    {
     "data": {
      "text/plain": [
       "'AI plays a crucial role for new businesses by enhancing prediction capabilities, optimizing operations, and personalizing digital solutions. It provides competitive advantages by improving resource allocation, leading to more efficient and effective business practices. AI empowers new businesses to leverage data and technology to gain insights, automate tasks, and deliver personalized experiences to customers. By embracing AI, startups and SMEs can accelerate their growth, compete more effectively, and drive innovation in their respective industries.'"
      ]
     },
     "execution_count": 10,
     "metadata": {},
     "output_type": "execute_result"
    }
   ],
   "source": [
    "rag_chain.invoke(\"What is the importance of AI for new businesses?\")"
   ]
  },
  {
   "cell_type": "markdown",
   "metadata": {},
   "source": [
    "## Show similarities between two documents"
   ]
  },
  {
   "cell_type": "code",
   "execution_count": null,
   "metadata": {},
   "outputs": [],
   "source": []
  }
 ],
 "metadata": {
  "kernelspec": {
   "display_name": "venv",
   "language": "python",
   "name": "python3"
  },
  "language_info": {
   "codemirror_mode": {
    "name": "ipython",
    "version": 3
   },
   "file_extension": ".py",
   "mimetype": "text/x-python",
   "name": "python",
   "nbconvert_exporter": "python",
   "pygments_lexer": "ipython3",
   "version": "3.11.6"
  }
 },
 "nbformat": 4,
 "nbformat_minor": 2
}
